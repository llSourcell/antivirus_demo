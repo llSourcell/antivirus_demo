{
 "cells": [
  {
   "cell_type": "markdown",
   "metadata": {},
   "source": [
    "# Virus Classifier\n",
    "## Code By [Siraj](https://github.com/llSourcell). Jupyter port by [Phillip Kuznetsov](https://github.com/philkuz)\n",
    "### From Sirajology's [Build an Antivirus in 5 Min](https://www.youtube.com/watch?v=iLNHVwSu9EA). \n",
    "\n",
    "[Github Repo](https://github.com/llSourcell/antivirus_demo). Make sure you have [data.csv](https://github.com/philkuz/antivirus_demo/raw/master/data.csv) in this folder to make this work."
   ]
  },
  {
   "cell_type": "code",
   "execution_count": 5,
   "metadata": {
    "collapsed": false
   },
   "outputs": [],
   "source": [
    "import pandas as pd\n",
    "import numpy as np\n",
    "import pickle\n",
    "import sklearn.ensemble as ske\n",
    "from sklearn import cross_validation, tree, linear_model\n",
    "from sklearn.feature_selection import SelectFromModel\n",
    "from sklearn.externals import joblib\n",
    "from sklearn.naive_bayes import GaussianNB\n",
    "from sklearn.metrics import confusion_matrix"
   ]
  },
  {
   "cell_type": "markdown",
   "metadata": {},
   "source": [
    "## Import Data and Remove extra columns"
   ]
  },
  {
   "cell_type": "code",
   "execution_count": 8,
   "metadata": {
    "collapsed": false
   },
   "outputs": [
    {
     "name": "stderr",
     "output_type": "stream",
     "text": [
      "/opt/conda/lib/python3.5/site-packages/IPython/core/interactiveshell.py:2705: DtypeWarning: Columns (13) have mixed types. Specify dtype option on import or set low_memory=False.\n",
      "  interactivity=interactivity, compiler=compiler, result=result)\n"
     ]
    },
    {
     "name": "stdout",
     "output_type": "stream",
     "text": [
      "Researching important features based on 54 total features\n",
      "\n"
     ]
    }
   ],
   "source": [
    "data = pd.read_csv('data.csv', sep='|')\n",
    "X = data.drop(['Name', 'md5', 'legitimate'], axis=1).values\n",
    "y = data['legitimate']\n",
    "print('Researching important features based on %i total features\\n' % X.shape[1])"
   ]
  },
  {
   "cell_type": "markdown",
   "metadata": {},
   "source": [
    "### Find the most important features for classification"
   ]
  },
  {
   "cell_type": "code",
   "execution_count": 23,
   "metadata": {
    "collapsed": false
   },
   "outputs": [],
   "source": [
    "fsel = ske.ExtraTreesClassifier().fit(X, y)\n",
    "model = SelectFromModel(fsel, prefit=True)\n",
    "X_new = model.transform(X)\n",
    "nb_features = X_new.shape[1]"
   ]
  },
  {
   "cell_type": "code",
   "execution_count": 24,
   "metadata": {
    "collapsed": false
   },
   "outputs": [
    {
     "name": "stdout",
     "output_type": "stream",
     "text": [
      "12 features identified as important\n",
      "1. feature Characteristics (0.161483)\n",
      "2. feature DllCharacteristics (0.129093)\n",
      "3. feature Machine (0.107110)\n",
      "4. feature ResourcesMaxEntropy (0.081689)\n",
      "5. feature SectionsMaxEntropy (0.069531)\n",
      "6. feature Subsystem (0.066103)\n",
      "7. feature MajorSubsystemVersion (0.051514)\n",
      "8. feature ResourcesMinEntropy (0.034731)\n",
      "9. feature VersionInformationSize (0.032248)\n",
      "10. feature ImageBase (0.026219)\n",
      "11. feature SizeOfOptionalHeader (0.020073)\n",
      "12. feature MajorOperatingSystemVersion (0.019690)\n"
     ]
    }
   ],
   "source": [
    "features = []\n",
    "print('%i features identified as important' % nb_features)\n",
    "\n",
    "indices = np.argsort(fsel.feature_importances_)[::-1][:nb_features]\n",
    "for f in range(nb_features):\n",
    "    print(\"%d. feature %s (%f)\" % (f + 1, data.columns[2+indices[f]], fsel.feature_importances_[indices[f]]))\n",
    "\n",
    "for f in sorted(np.argsort(fsel.feature_importances_)[::-1][:nb_features]):\n",
    "    features.append(data.columns[2+f])"
   ]
  },
  {
   "cell_type": "markdown",
   "metadata": {},
   "source": [
    "### Split data into training and testing data."
   ]
  },
  {
   "cell_type": "code",
   "execution_count": 11,
   "metadata": {
    "collapsed": true
   },
   "outputs": [],
   "source": [
    "X_train, X_test, y_train, y_test = cross_validation.train_test_split(X_new, y, test_size=0.2)"
   ]
  },
  {
   "cell_type": "markdown",
   "metadata": {},
   "source": [
    "### Train and Evaluate each algorithm"
   ]
  },
  {
   "cell_type": "code",
   "execution_count": 18,
   "metadata": {
    "collapsed": false
   },
   "outputs": [
    {
     "name": "stdout",
     "output_type": "stream",
     "text": [
      "\n",
      "Now testing algorithms\n",
      "GradientBoosting : 98.721478 %\n",
      "GNB : 70.315103 %\n",
      "DecisionTree : 98.946034 %\n",
      "RandomForest : 99.188700 %\n",
      "AdaBoost : 98.341181 %\n",
      "\n",
      "Winner algorithm is RandomForest with a 99.188700 % success\n"
     ]
    }
   ],
   "source": [
    "algorithms = {\n",
    "    \"DecisionTree\": tree.DecisionTreeClassifier(max_depth=10), \n",
    "    \"RandomForest\": ske.RandomForestClassifier(n_estimators=50), \n",
    "    \"GradientBoosting\" : ske.GradientBoostingClassifier(n_estimators=50),\n",
    "    \"AdaBoost\": ske.AdaBoostClassifier(n_estimators=100),\n",
    "    \"GNB\": GaussianNB()\n",
    "}\n",
    "\n",
    "results={}\n",
    "print(\"\\nNow testing algorithms\")\n",
    "for algo in algorithms:\n",
    "    clf = algorithms[algo]\n",
    "    clf.fit(X_train, y_train)\n",
    "    score = clf.score(X_test, y_test)\n",
    "    print(\"%s : %f %%\" % (algo, score*100))\n",
    "    results[algo] = score\n",
    "\n",
    "winner = max(results, key=results.get)\n",
    "print('\\nWinner algorithm is %s with a %f %% success' % (winner, results[winner]*100))"
   ]
  },
  {
   "cell_type": "code",
   "execution_count": 22,
   "metadata": {
    "collapsed": false
   },
   "outputs": [
    {
     "name": "stdout",
     "output_type": "stream",
     "text": [
      "Saving algorithm and feature list in classifier directory...\n",
      "Saved\n"
     ]
    }
   ],
   "source": [
    "print('Saving algorithm and feature list in classifier directory...')\n",
    "joblib.dump(algorithms[winner], 'classifier/classifier.pkl')\n",
    "open('classifier/features.pkl', 'wb').write(pickle.dumps(features))\n",
    "print('Saved')"
   ]
  },
  {
   "cell_type": "code",
   "execution_count": null,
   "metadata": {
    "collapsed": true
   },
   "outputs": [],
   "source": []
  }
 ],
 "metadata": {
  "kernelspec": {
   "display_name": "Python 3",
   "language": "python",
   "name": "python3"
  },
  "language_info": {
   "codemirror_mode": {
    "name": "ipython",
    "version": 3
   },
   "file_extension": ".py",
   "mimetype": "text/x-python",
   "name": "python",
   "nbconvert_exporter": "python",
   "pygments_lexer": "ipython3",
   "version": "3.5.2"
  }
 },
 "nbformat": 4,
 "nbformat_minor": 0
}
